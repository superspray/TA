{
  "nbformat": 4,
  "nbformat_minor": 0,
  "metadata": {
    "colab": {
      "name": "Technical indicator.ipynb",
      "provenance": [],
      "collapsed_sections": []
    },
    "kernelspec": {
      "name": "python3",
      "display_name": "Python 3"
    },
    "language_info": {
      "name": "python"
    }
  },
  "cells": [
    {
      "cell_type": "code",
      "metadata": {
        "colab": {
          "base_uri": "https://localhost:8080/"
        },
        "id": "dpHIhU5kS_FJ",
        "outputId": "42346635-0ec0-4320-991f-b7301856b854"
      },
      "source": [
        "from google.colab import drive\n",
        "drive.mount('/content/drive')"
      ],
      "execution_count": 1,
      "outputs": [
        {
          "output_type": "stream",
          "text": [
            "Mounted at /content/drive\n"
          ],
          "name": "stdout"
        }
      ]
    },
    {
      "cell_type": "code",
      "metadata": {
        "id": "TYLfvRQzUN8m"
      },
      "source": [
        ""
      ],
      "execution_count": null,
      "outputs": []
    },
    {
      "cell_type": "code",
      "metadata": {
        "id": "mDSTVxHkUODZ"
      },
      "source": [
        "import pandas as pd\n",
        "import re\n",
        "import numpy as np\n",
        "!pip install --upgrade mplfinance\n",
        "import mplfinance as mpf\n",
        "%cd /content/TA\n",
        "from technical_indicator import TA"
      ],
      "execution_count": null,
      "outputs": []
    },
    {
      "cell_type": "code",
      "metadata": {
        "id": "D4wLYManUOF0"
      },
      "source": [
        "\n",
        "def data_pre_inf(nick, dir = \"/content/drive/MyDrive/data/naphtha/Crude Oil WTI Futures Historical Data.csv\", vol = True):\n",
        "    data = pd.read_csv(dir)\n",
        "    if vol:\n",
        "        if (data.dtypes['Vol.'] == 'O'):\n",
        "            data['Vol.'] = data['Vol.'].str.rstrip('K')\n",
        "            data['Vol.'] = data['Vol.'].str.rstrip('M')\n",
        "            data['Vol.'] = data['Vol.'].replace({'-': 0})\n",
        "\n",
        "            data['Vol.'] = data['Vol.'].astype('float64')#, copy=False)\n",
        "\n",
        "    data['Change %'] = data['Change %'].str.rstrip('%')\n",
        "    data['Change %'] = data['Change %'].astype('float64')#, copy=False)\n",
        "    if data.dtypes['Price'] == 'O':\n",
        "        data['Price'] = data['Price'].map(lambda x: re.sub(r',', '', x))\n",
        "        data['Price'] = data['Price'].astype('float64')#, copy=False)\n",
        "\n",
        "    data['date'] = pd.to_datetime(data['Date']).astype('datetime64[ns]')\n",
        "    data = data.drop(['Date'], axis= 1)\n",
        "    data = data.sort_values(['date'])\n",
        "    data = data.iloc[:-1,:]\n",
        "    data = data.replace({'-': 0})\n",
        "    data = data.drop([\"Open\", \"Low\", \"High\", \"Change %\"], axis = 1)\n",
        "    if vol:\n",
        "        data.columns = ['Price_' + nick, 'Vol_'+nick, 'date']\n",
        "    else:\n",
        "        data.columns = ['Price_' + nick, 'date']\n",
        "\n",
        "    print(nick, data.shape)\n",
        "    return data"
      ],
      "execution_count": null,
      "outputs": []
    },
    {
      "cell_type": "code",
      "metadata": {
        "id": "XZPUg9aAUOIS"
      },
      "source": [
        "\n",
        "# dir_list = [\"Crude Oil WTI Futures Historical Data.csv\",\n",
        "#             \"EUR_USD Historical Data.csv\",\n",
        "#             \"Ethanol Futures Historical Data.csv\",\n",
        "#             \"GOOGL Historical Data.csv\",\n",
        "#             \"Natural Gas Futures Historical Data.csv\",\n",
        "#             \"S&P 500 Historical Data.csv\",\n",
        "#             \"US 30 Futures Historical Data.csv\",\n",
        "#             \"United States 10-Year Bond Yield Historical Data.csv\",\n",
        "#             \"United States 2-Year Bond Yield Historical Data.csv\"]\n",
        "\n",
        "# data_wti = data_pre_inf(\"wti\",\"/content/drive/MyDrive/data/naphtha/\" + dir_list[0])\n",
        "# data_eur_usd = data_pre_inf(\"eur_usd\", \"/content/drive/MyDrive/data/naphtha/\" + dir_list[1], vol = False)\n",
        "# data_ethan = data_pre_inf(\"ethan\",\"/content/drive/MyDrive/data/naphtha/\" + dir_list[2])\n",
        "# data_googl = data_pre_inf(\"googl\",\"/content/drive/MyDrive/data/naphtha/\" + dir_list[3])\n",
        "# data_gas = data_pre_inf(\"gas\",\"/content/drive/MyDrive/data/naphtha/\" + dir_list[4])\n",
        "# data_snp500 = data_pre_inf(\"snp\",\"/content/drive/MyDrive/data/naphtha/\" + dir_list[5])\n",
        "# data_us30 = data_pre_inf(\"us30\",\"/content/drive/MyDrive/data/naphtha/\" + dir_list[6])\n",
        "# data_us10bond = data_pre_inf(\"us10bond\",\"/content/drive/MyDrive/data/naphtha/\" + dir_list[7], vol = False)\n",
        "# data_us2bond = data_pre_inf(\"us2bond\",\"/content/drive/MyDrive/data/naphtha/\" + dir_list[8], vol = False)\n",
        "\n"
      ],
      "execution_count": null,
      "outputs": []
    },
    {
      "cell_type": "code",
      "metadata": {
        "colab": {
          "base_uri": "https://localhost:8080/"
        },
        "id": "gZHkqDH7UCQp",
        "outputId": "2b6f57ce-1991-454c-8f27-135d3e48b5a2"
      },
      "source": [
        "# %cd /content/finta/finta\n",
        "# import finta\n",
        "from pandas_datareader import data as web\n",
        "! git clone https://github.com/superspray/TA\n"
      ],
      "execution_count": 24,
      "outputs": [
        {
          "output_type": "stream",
          "text": [
            "Cloning into 'TA'...\n",
            "remote: Enumerating objects: 11, done.\u001b[K\n",
            "remote: Counting objects: 100% (11/11), done.\u001b[K\n",
            "remote: Compressing objects: 100% (10/10), done.\u001b[K\n",
            "remote: Total 11 (delta 4), reused 4 (delta 0), pack-reused 0\u001b[K\n",
            "Unpacking objects: 100% (11/11), done.\n"
          ],
          "name": "stdout"
        }
      ]
    },
    {
      "cell_type": "code",
      "metadata": {
        "colab": {
          "base_uri": "https://localhost:8080/",
          "height": 446
        },
        "id": "Gq4RzeMhaJOl",
        "outputId": "2e789c64-c086-4bec-d56b-a9559375ce8b"
      },
      "source": [
        "# Get the data from remote source\n",
        "data = web.DataReader('^SPX', 'stooq')\n",
        "# Finta likes lowercase\n",
        "data.columns = [\"open\", \"high\", \"low\", \"close\", \"volume\"]\n",
        "data.sort_values('Date', inplace = True)\n",
        "data"
      ],
      "execution_count": 25,
      "outputs": [
        {
          "output_type": "execute_result",
          "data": {
            "text/html": [
              "<div>\n",
              "<style scoped>\n",
              "    .dataframe tbody tr th:only-of-type {\n",
              "        vertical-align: middle;\n",
              "    }\n",
              "\n",
              "    .dataframe tbody tr th {\n",
              "        vertical-align: top;\n",
              "    }\n",
              "\n",
              "    .dataframe thead th {\n",
              "        text-align: right;\n",
              "    }\n",
              "</style>\n",
              "<table border=\"1\" class=\"dataframe\">\n",
              "  <thead>\n",
              "    <tr style=\"text-align: right;\">\n",
              "      <th></th>\n",
              "      <th>open</th>\n",
              "      <th>high</th>\n",
              "      <th>low</th>\n",
              "      <th>close</th>\n",
              "      <th>volume</th>\n",
              "    </tr>\n",
              "    <tr>\n",
              "      <th>Date</th>\n",
              "      <th></th>\n",
              "      <th></th>\n",
              "      <th></th>\n",
              "      <th></th>\n",
              "      <th></th>\n",
              "    </tr>\n",
              "  </thead>\n",
              "  <tbody>\n",
              "    <tr>\n",
              "      <th>2016-08-05</th>\n",
              "      <td>2168.79</td>\n",
              "      <td>2182.87</td>\n",
              "      <td>2168.79</td>\n",
              "      <td>2182.87</td>\n",
              "      <td>2035038889</td>\n",
              "    </tr>\n",
              "    <tr>\n",
              "      <th>2016-08-08</th>\n",
              "      <td>2183.76</td>\n",
              "      <td>2185.44</td>\n",
              "      <td>2177.85</td>\n",
              "      <td>2180.89</td>\n",
              "      <td>1848638889</td>\n",
              "    </tr>\n",
              "    <tr>\n",
              "      <th>2016-08-09</th>\n",
              "      <td>2182.24</td>\n",
              "      <td>2187.66</td>\n",
              "      <td>2178.61</td>\n",
              "      <td>2181.74</td>\n",
              "      <td>1852388889</td>\n",
              "    </tr>\n",
              "    <tr>\n",
              "      <th>2016-08-10</th>\n",
              "      <td>2182.81</td>\n",
              "      <td>2183.41</td>\n",
              "      <td>2172.00</td>\n",
              "      <td>2175.49</td>\n",
              "      <td>1808305556</td>\n",
              "    </tr>\n",
              "    <tr>\n",
              "      <th>2016-08-11</th>\n",
              "      <td>2177.97</td>\n",
              "      <td>2188.45</td>\n",
              "      <td>2177.97</td>\n",
              "      <td>2185.79</td>\n",
              "      <td>1901755556</td>\n",
              "    </tr>\n",
              "    <tr>\n",
              "      <th>...</th>\n",
              "      <td>...</td>\n",
              "      <td>...</td>\n",
              "      <td>...</td>\n",
              "      <td>...</td>\n",
              "      <td>...</td>\n",
              "    </tr>\n",
              "    <tr>\n",
              "      <th>2021-07-28</th>\n",
              "      <td>4402.95</td>\n",
              "      <td>4415.47</td>\n",
              "      <td>4387.01</td>\n",
              "      <td>4400.64</td>\n",
              "      <td>2118843918</td>\n",
              "    </tr>\n",
              "    <tr>\n",
              "      <th>2021-07-29</th>\n",
              "      <td>4403.59</td>\n",
              "      <td>4429.97</td>\n",
              "      <td>4403.59</td>\n",
              "      <td>4419.15</td>\n",
              "      <td>2019354788</td>\n",
              "    </tr>\n",
              "    <tr>\n",
              "      <th>2021-07-30</th>\n",
              "      <td>4395.12</td>\n",
              "      <td>4412.25</td>\n",
              "      <td>4389.65</td>\n",
              "      <td>4395.26</td>\n",
              "      <td>2245846882</td>\n",
              "    </tr>\n",
              "    <tr>\n",
              "      <th>2021-08-02</th>\n",
              "      <td>4406.86</td>\n",
              "      <td>4422.18</td>\n",
              "      <td>4384.81</td>\n",
              "      <td>4387.16</td>\n",
              "      <td>1983436641</td>\n",
              "    </tr>\n",
              "    <tr>\n",
              "      <th>2021-08-03</th>\n",
              "      <td>4392.74</td>\n",
              "      <td>4423.79</td>\n",
              "      <td>4373.00</td>\n",
              "      <td>4423.15</td>\n",
              "      <td>2174964518</td>\n",
              "    </tr>\n",
              "  </tbody>\n",
              "</table>\n",
              "<p>1257 rows × 5 columns</p>\n",
              "</div>"
            ],
            "text/plain": [
              "               open     high      low    close      volume\n",
              "Date                                                      \n",
              "2016-08-05  2168.79  2182.87  2168.79  2182.87  2035038889\n",
              "2016-08-08  2183.76  2185.44  2177.85  2180.89  1848638889\n",
              "2016-08-09  2182.24  2187.66  2178.61  2181.74  1852388889\n",
              "2016-08-10  2182.81  2183.41  2172.00  2175.49  1808305556\n",
              "2016-08-11  2177.97  2188.45  2177.97  2185.79  1901755556\n",
              "...             ...      ...      ...      ...         ...\n",
              "2021-07-28  4402.95  4415.47  4387.01  4400.64  2118843918\n",
              "2021-07-29  4403.59  4429.97  4403.59  4419.15  2019354788\n",
              "2021-07-30  4395.12  4412.25  4389.65  4395.26  2245846882\n",
              "2021-08-02  4406.86  4422.18  4384.81  4387.16  1983436641\n",
              "2021-08-03  4392.74  4423.79  4373.00  4423.15  2174964518\n",
              "\n",
              "[1257 rows x 5 columns]"
            ]
          },
          "metadata": {
            "tags": []
          },
          "execution_count": 25
        }
      ]
    },
    {
      "cell_type": "code",
      "metadata": {
        "id": "Q2NEmmiylTy8"
      },
      "source": [
        "# calc bol band\n",
        "bbands = TA.BBANDS(data, 30)\n",
        "\n",
        "# cherry pick what to show on the chart\n",
        "bands_plot = pd.concat([bbands.BB_UPPER, bbands.BB_LOWER], axis=1)\n",
        "\n",
        "apd = mpf.make_addplot(bands_plot.tail(300))\n",
        "\n",
        "mpf.plot(data.tail(300), type='candle', style='charles',\n",
        "        title='SPX BBANDS(30)',\n",
        "        ylabel='Price (USD)',\n",
        "        ylabel_lower='Volume',\n",
        "        volume=True,\n",
        "        figscale=1.5,\n",
        "        addplot=apd\n",
        "        )\n"
      ],
      "execution_count": null,
      "outputs": []
    },
    {
      "cell_type": "code",
      "metadata": {
        "colab": {
          "base_uri": "https://localhost:8080/"
        },
        "id": "alcf5b5Twb1d",
        "outputId": "6fe9d72d-185e-4bb5-b271-16de6caf13ba"
      },
      "source": [
        "# (2020) https://stackoverflow.com/questions/49648391/how-to-install-ta-lib-in-google-colab\n",
        "url = 'https://launchpad.net/~mario-mariomedina/+archive/ubuntu/talib/+files'\n",
        "!wget $url/libta-lib0_0.4.0-oneiric1_amd64.deb -qO libta.deb\n",
        "!wget $url/ta-lib0-dev_0.4.0-oneiric1_amd64.deb -qO ta.deb\n",
        "!dpkg -i libta.deb ta.deb\n",
        "!pip install ta-lib\n",
        "import talib"
      ],
      "execution_count": 87,
      "outputs": [
        {
          "output_type": "stream",
          "text": [
            "Selecting previously unselected package libta-lib0.\n",
            "(Reading database ... 160837 files and directories currently installed.)\n",
            "Preparing to unpack libta.deb ...\n",
            "Unpacking libta-lib0 (0.4.0-oneiric1) ...\n",
            "Selecting previously unselected package ta-lib0-dev.\n",
            "Preparing to unpack ta.deb ...\n",
            "Unpacking ta-lib0-dev (0.4.0-oneiric1) ...\n",
            "Setting up libta-lib0 (0.4.0-oneiric1) ...\n",
            "Setting up ta-lib0-dev (0.4.0-oneiric1) ...\n",
            "Processing triggers for man-db (2.8.3-2ubuntu0.1) ...\n",
            "Processing triggers for libc-bin (2.27-3ubuntu1.2) ...\n",
            "/sbin/ldconfig.real: /usr/local/lib/python3.7/dist-packages/ideep4py/lib/libmkldnn.so.0 is not a symbolic link\n",
            "\n",
            "Collecting ta-lib\n",
            "  Downloading TA-Lib-0.4.21.tar.gz (270 kB)\n",
            "\u001b[K     |████████████████████████████████| 270 kB 29.7 MB/s \n",
            "\u001b[?25hRequirement already satisfied: numpy in /usr/local/lib/python3.7/dist-packages (from ta-lib) (1.19.5)\n",
            "Building wheels for collected packages: ta-lib\n",
            "  Building wheel for ta-lib (setup.py) ... \u001b[?25l\u001b[?25hdone\n",
            "  Created wheel for ta-lib: filename=TA_Lib-0.4.21-cp37-cp37m-linux_x86_64.whl size=1444979 sha256=6855f5f1db71e13e58da30b0b88cc361568c313285500d8c6d355bc940ca7b7e\n",
            "  Stored in directory: /root/.cache/pip/wheels/32/3c/86/8dfaee7c11df54449f188172fcf66ae6d134f3118d0237df4a\n",
            "Successfully built ta-lib\n",
            "Installing collected packages: ta-lib\n",
            "Successfully installed ta-lib-0.4.21\n"
          ],
          "name": "stdout"
        }
      ]
    },
    {
      "cell_type": "code",
      "metadata": {
        "id": "PftQlbBvJAtb"
      },
      "source": [
        ""
      ],
      "execution_count": 93,
      "outputs": []
    },
    {
      "cell_type": "markdown",
      "metadata": {
        "id": "EMD_WSzErHI-"
      },
      "source": [
        "# Ta-Lib 과 비교 "
      ]
    },
    {
      "cell_type": "code",
      "metadata": {
        "id": "j4kq0qQiX4l4"
      },
      "source": [
        "from talib.abstract import *\n",
        "\n",
        "# uses close prices (default)\n",
        "output = MINUS_DM(data, timeperiod=14)\n",
        "output[14:]"
      ],
      "execution_count": null,
      "outputs": []
    },
    {
      "cell_type": "markdown",
      "metadata": {
        "id": "83BeZx2lrbVR"
      },
      "source": [
        "## Wilder Smoothing "
      ]
    },
    {
      "cell_type": "code",
      "metadata": {
        "colab": {
          "base_uri": "https://localhost:8080/"
        },
        "id": "BVkPr2DaR7h-",
        "outputId": "c7518a6a-3503-48a4-8e7d-400dfed8673f"
      },
      "source": [
        "\n",
        "def Wilder(data, periods = 3):\n",
        "    start = np.where(~np.isnan(data))[0][0] #Check if nans present in beginning\n",
        "    Wilder = np.array([np.nan]*len(data))\n",
        "    Wilder[start+periods-1] = data[start:(start+periods)].mean() #Simple Moving Average\n",
        "    for i in range(start+periods,len(data)):\n",
        "        Wilder[i] = (Wilder[i-1]*(periods-1) + data[i])/periods #Wilder Smoothing\n",
        "    \n",
        "    return Wilder\n",
        "\n",
        "\n",
        "Wilder(TR1)[:10]*3"
      ],
      "execution_count": 91,
      "outputs": [
        {
          "output_type": "execute_result",
          "data": {
            "text/plain": [
              "array([        nan,         nan,         nan, 35.26      , 34.91666667,\n",
              "       36.23777778, 31.01851852, 30.43901235, 32.3026749 , 36.1151166 ])"
            ]
          },
          "metadata": {
            "tags": []
          },
          "execution_count": 91
        }
      ]
    },
    {
      "cell_type": "code",
      "metadata": {
        "id": "vBKLl8qzwb99"
      },
      "source": [
        "ohlc = data\n",
        "\n",
        "def Wilder(data, periods = 14, adjust = False):\n",
        "    start = np.where(~np.isnan(data))[0][0] #Check if nans present in beginning\n",
        "    Wilder = np.array([np.nan]*len(data))\n",
        "    Wilder[start+periods-1] = data[start:(start+periods)].sum() #Simple Moving Average\n",
        "    \n",
        "    if adjust:\n",
        "        for i in range(start+periods,len(data)):\n",
        "            Wilder[i] = (Wilder[i-1]*(periods-1) + data[i]) #Wilder Smoothing\n",
        "    else:    \n",
        "        for i in range(start+periods,len(data)):\n",
        "            Wilder[i] = Wilder[start+periods-1] -Wilder[i-1]/periods+ data[i] #Wilder Smoothing\n",
        "        \n",
        "    return Wilder/periods\n",
        "\n",
        "\n",
        "def Wilder(data, periods):\n",
        "    start = np.where(~np.isnan(data))[0][0] #Check if nans present in beginning\n",
        "    Wilder = np.array([np.nan]*len(data))\n",
        "    Wilder[start+periods-1] = data[start:(start+periods)].mean() #Simple Moving Average\n",
        "    for i in range(start+periods,len(data)):\n",
        "        Wilder[i] = (Wilder[i-1]*(periods-1) + data[i])/periods #Wilder Smoothing\n",
        "    return Wilder\n",
        "\n",
        "\n",
        "# up = ohlc[\"high\"].diff()\n",
        "# dn = -ohlc[\"low\"].diff()\n",
        "\n",
        "\n",
        "\n",
        "# pos = ((up > dn) & (up > 0)) * up\n",
        "# neg = ((dn > up) & (dn > 0)) * dn\n",
        "\n",
        "\n",
        "# ## Smoothed\n",
        "# TR1 = TechA.TR(ohlc)\n",
        "# TR14 = Wilder(TR1, 14)\n",
        "\n",
        "# pos14 = Wilder(pos, 14)\n",
        "# neg14 = Wilder(neg, 14)\n",
        "\n",
        "# pos_di = pos14 / TR14 * 100 \n",
        "# neg_di = neg14 / TR14 * 100 \n",
        "\n",
        "# dx = 100 * np.abs((pos_di - neg_di)/(pos_di + neg_di))\n",
        "# dmi = (pos14 - neg14)/(pos14 + neg14) * 100\n",
        "# adx = Wilder(dx, 14, adjust = True)\n",
        "# adx"
      ],
      "execution_count": null,
      "outputs": []
    },
    {
      "cell_type": "code",
      "metadata": {
        "id": "JD9cfPHoUCY3"
      },
      "source": [
        ""
      ],
      "execution_count": null,
      "outputs": []
    },
    {
      "cell_type": "code",
      "metadata": {
        "id": "XhqDPUICUCbW"
      },
      "source": [
        ""
      ],
      "execution_count": null,
      "outputs": []
    }
  ]
}